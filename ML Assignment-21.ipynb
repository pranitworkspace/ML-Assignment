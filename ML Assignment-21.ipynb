{
 "cells": [
  {
   "cell_type": "markdown",
   "id": "64809b73",
   "metadata": {},
   "source": [
    "1. What is the estimated depth of a Decision Tree trained (unrestricted) on a one million instance training set?\n",
    "\n",
    "2. Is the Gini impurity of a node usually lower or higher than that of its parent? Is it always lower/greater, or is it usually lower/greater?\n",
    "\n",
    "3. Explain if its a good idea to reduce max depth if a Decision Tree is overfitting the training set?\n",
    "\n",
    "4. Explain if its a good idea to try scaling the input features if a Decision Tree underfits the training set?\n",
    "\n",
    "5. How much time will it take to train another Decision Tree on a training set of 10 million instances if it takes an hour to train a Decision Tree on a training set with 1 million instances?\n",
    "\n",
    "6. Will setting presort=True speed up training if your training set has 100,000 instances?\n",
    "\n",
    "7. Follow these steps to train and fine-tune a Decision Tree for the moons dataset:\n",
    "\n",
    "a. To build a moons dataset, use make moons(n samples=10000, noise=0.4).\n",
    "\n",
    "b. Divide the dataset into a training and a test collection with train test split().\n",
    "\n",
    "c. To find good hyperparameters values for a DecisionTreeClassifier, use grid search with cross-\n",
    "validation (with the GridSearchCV class). Try different values for max leaf nodes.\n",
    "\n",
    "d. Use these hyperparameters to train the model on the entire training set, and then assess its\n",
    "output on the test set. You can achieve an accuracy of 85 to 87 percent.\n",
    "\n",
    "8. Follow these steps to grow a forest:\n",
    "\n",
    "a. Using the same method as before, create 1,000 subsets of the training set, each containing\n",
    "100 instances chosen at random. You can do this with Scikit-ShuffleSplit Learn&#39;s class.\n",
    "\n",
    "b. Using the best hyperparameter values found in the previous exercise, train one Decision\n",
    "Tree on each subset. On the test collection, evaluate these 1,000 Decision Trees. These Decision\n",
    "\n",
    "Trees would likely perform worse than the first Decision Tree, achieving only around 80% accuracy,\n",
    "since they were trained on smaller sets.\n",
    "\n",
    "c. Now the magic begins. Create 1,000 Decision Tree predictions for each test set case, and\n",
    "keep only the most common prediction (you can do this with SciPy&#39;s mode() function). Over the test\n",
    "collection, this method gives you majority-vote predictions.\n",
    "\n",
    "d. On the test range, evaluate these predictions: you should achieve a slightly higher accuracy\n",
    "than the first model (approx 0.5 to 1.5 percent higher). You&#39;ve successfully learned a Random Forest\n",
    "classifier!"
   ]
  },
  {
   "cell_type": "markdown",
   "id": "460c80ed",
   "metadata": {},
   "source": [
    "# Solution:-"
   ]
  },
  {
   "cell_type": "markdown",
   "id": "8de29a32",
   "metadata": {},
   "source": [
    "1. What is the estimated depth of a Decision Tree trained (unrestricted) on a one million instance training set?\n",
    "\n",
    "The estimated depth of a Decision Tree trained on a one million instance training set is likely to be quite deep. Without any restrictions, the tree can potentially grow to a depth that captures all the intricate details of the training data, including noise and outliers. The exact depth will depend on the complexity of the data and the relationships between features.\n",
    "\n",
    "2. Is the Gini impurity of a node usually lower or higher than that of its parent? Is it always lower/greater, or is it usually lower/greater?\n",
    "\n",
    "The Gini impurity of a node is usually lower than that of its parent. The goal of a Decision Tree is to partition the data in a way that reduces impurity at each level. As the tree grows, the impurity tends to decrease, resulting in lower Gini impurity at child nodes compared to their parent nodes. However, it is not guaranteed that the impurity will always decrease with each split, especially when dealing with noisy or complex datasets.\n",
    "\n",
    "3. Explain if it's a good idea to reduce max depth if a Decision Tree is overfitting the training set?\n",
    "\n",
    "Yes, reducing the maximum depth of a Decision Tree can be a good idea if the model is overfitting the training set. Overfitting occurs when the tree becomes too complex and starts capturing noise or irrelevant patterns in the training data. By reducing the maximum depth, we limit the tree's ability to create overly specific rules, which can help improve its generalization capability on unseen data. It helps to strike a balance between capturing important patterns and avoiding overfitting.\n",
    "\n",
    "4. Explain if it's a good idea to try scaling the input features if a Decision Tree underfits the training set?\n",
    "\n",
    "No, scaling the input features is not necessary or beneficial for a Decision Tree. Decision Trees make splits based on feature thresholds, and the relative scale of features does not impact their performance. Scaling may be required for certain algorithms, such as distance-based methods, but Decision Trees are not affected by the scale of features. If a Decision Tree is underfitting the training set, it is more likely due to other factors such as insufficient depth, limited number of splits, or lack of informative features.\n",
    "\n",
    "5. How much time will it take to train another Decision Tree on a training set of 10 million instances if it takes an hour to train a Decision Tree on a training set with 1 million instances?\n",
    "\n",
    "Assuming the time taken to train a Decision Tree scales linearly with the size of the training set, it can be estimated that training a Decision Tree on a training set of 10 million instances would take approximately 10 hours. However, it's important to note that the actual training time can vary depending on various factors such as the complexity of the data, the algorithm used, hardware specifications, and implementation optimizations.\n",
    "\n",
    "6. Will setting presort=True speed up training if your training set has 100,000 instances?\n",
    "\n",
    "No, setting presort=True is unlikely to speed up training if the training set has 100,000 instances. The presort option is used to specify whether to presort the data for faster tree building. However, presorting can be computationally expensive and is generally beneficial only for smaller datasets. For larger datasets like the one with 100,000 instances, the overhead of presorting can outweigh any potential speed gains, making it more efficient to train the tree without presorting.\n",
    "\n",
    "7. Follow these steps to train and fine-tune a Decision Tree for the moons dataset:\n",
    "a. To build a moons dataset, use make_moons(n_samples=10000, noise=0.4).\n",
    "b. Divide the dataset into a training and a test collection with train_test_split().\n",
    "c. To find good hyperparameter values for a DecisionTreeClassifier, use grid search with cross-validation (with the GridSearchCV class). Try different values for max_leaf_nodes.\n",
    "d. Use these hyperparameters to train the model on the entire training set, and then assess its output on the test set. You can achieve an accuracy of 85 to 87 percent.\n",
    "Follow these steps to grow a forest:\n",
    "a. Using the same method as before, create 1,000 subsets of the training set, each containing 100 instances chosen at random. You can do this with Scikit-Learn's ShuffleSplit class.\n",
    "b. Using the best hyperparameter values found in the previous exercise, train one Decision Tree on each subset. Evaluate these 1,000 Decision Trees on the test collection. These Decision Trees would likely perform worse than the first Decision Tree, achieving only around 80% accuracy, since they were trained on smaller sets.\n",
    "c. Now, create 1,000 Decision Tree predictions for each test set case and keep only the most common prediction using SciPy's mode() function. This gives majority-vote predictions over the test collection.\n",
    "d. Evaluate these predictions on the test range. You should achieve a slightly higher accuracy than the first model, approximately 0.5 to 1.5 percent higher. You have successfully learned a Random Forest classifier!\n"
   ]
  },
  {
   "cell_type": "code",
   "execution_count": null,
   "id": "c97dd125",
   "metadata": {},
   "outputs": [],
   "source": []
  },
  {
   "cell_type": "code",
   "execution_count": null,
   "id": "1151cce4",
   "metadata": {},
   "outputs": [],
   "source": []
  },
  {
   "cell_type": "code",
   "execution_count": null,
   "id": "79c068a5",
   "metadata": {},
   "outputs": [],
   "source": []
  },
  {
   "cell_type": "code",
   "execution_count": null,
   "id": "8780332b",
   "metadata": {},
   "outputs": [],
   "source": []
  },
  {
   "cell_type": "code",
   "execution_count": null,
   "id": "6b19dd17",
   "metadata": {},
   "outputs": [],
   "source": []
  },
  {
   "cell_type": "code",
   "execution_count": null,
   "id": "91a503c2",
   "metadata": {},
   "outputs": [],
   "source": []
  },
  {
   "cell_type": "code",
   "execution_count": null,
   "id": "496dbb9c",
   "metadata": {},
   "outputs": [],
   "source": []
  },
  {
   "cell_type": "code",
   "execution_count": null,
   "id": "d7398cce",
   "metadata": {},
   "outputs": [],
   "source": []
  },
  {
   "cell_type": "code",
   "execution_count": null,
   "id": "c601ff0f",
   "metadata": {},
   "outputs": [],
   "source": []
  },
  {
   "cell_type": "code",
   "execution_count": null,
   "id": "ccde9fb7",
   "metadata": {},
   "outputs": [],
   "source": []
  },
  {
   "cell_type": "code",
   "execution_count": null,
   "id": "fede8484",
   "metadata": {},
   "outputs": [],
   "source": []
  },
  {
   "cell_type": "code",
   "execution_count": null,
   "id": "12195859",
   "metadata": {},
   "outputs": [],
   "source": []
  }
 ],
 "metadata": {
  "kernelspec": {
   "display_name": "Python 3 (ipykernel)",
   "language": "python",
   "name": "python3"
  },
  "language_info": {
   "codemirror_mode": {
    "name": "ipython",
    "version": 3
   },
   "file_extension": ".py",
   "mimetype": "text/x-python",
   "name": "python",
   "nbconvert_exporter": "python",
   "pygments_lexer": "ipython3",
   "version": "3.9.7"
  }
 },
 "nbformat": 4,
 "nbformat_minor": 5
}
