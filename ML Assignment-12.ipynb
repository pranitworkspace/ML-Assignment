{
 "cells": [
  {
   "cell_type": "markdown",
   "id": "158b1463",
   "metadata": {},
   "source": [
    "1. What is prior probability? Give an example.\n",
    "\n",
    "2. What is posterior probability? Give an example.\n",
    "\n",
    "3. What is likelihood probability? Give an example.\n",
    "\n",
    "4. What is Naïve Bayes classifier? Why is it named so?\n",
    "\n",
    "5. What is optimal Bayes classifier?\n",
    "\n",
    "6. Write any two features of Bayesian learning methods.\n",
    "\n",
    "7. Define the concept of consistent learners.\n",
    "\n",
    "8. Write any two strengths of Bayes classifier.\n",
    "\n",
    "9. Write any two weaknesses of Bayes classifier.\n",
    "\n",
    "10. Explain how Naïve Bayes classifier is used for\n",
    "\n",
    "i. Text classification\n",
    "\n",
    "ii. Spam filtering\n",
    "\n",
    "iii. Market sentiment analysis"
   ]
  },
  {
   "cell_type": "markdown",
   "id": "e19d9b10",
   "metadata": {},
   "source": [
    "# Solution:-"
   ]
  },
  {
   "cell_type": "markdown",
   "id": "c7369152",
   "metadata": {},
   "source": [
    "1. What is prior probability? Give an example.\n",
    "\n",
    "Prior probability can be the initial probability assigned to an event or hypothesis before any evidence is taken into account. It is based on prior knowledge or assumptions. For example, if we want to determine the probability of a person having a certain disease based on their age, we might assign a prior probability based on the prevalence of the disease in different age groups.\n",
    "\n",
    "2. What is posterior probability? Give an example.\n",
    "\n",
    "Posterior probability refers to the updated probability of an event or hypothesis after considering new evidence. It is calculated using Bayes' theorem. For example, if we have prior probabilities of a person having a disease based on age and we receive test results indicating certain symptoms, we can calculate the posterior probability of the person having the disease by incorporating the test results.\n",
    "\n",
    "3. What is likelihood probability? Give an example.\n",
    "\n",
    "Likelihood probability represents the probability of observing the given evidence or data, assuming a particular hypothesis is true. It measures how well the observed data aligns with the hypothesis. For example, if we are testing a coin for fairness and we observe 10 heads out of 20 tosses, the likelihood probability represents the probability of obtaining this specific outcome (10 heads) if the coin is fair.\n",
    "\n",
    "4. What is Naïve Bayes classifier? Why is it named so?\n",
    "\n",
    "Naïve Bayes classifier is a probabilistic machine learning algorithm based on Bayes' theorem. It is named \"naïve\" because it makes a strong assumption of feature independence, meaning it assumes that the presence or absence of a particular feature is unrelated to the presence or absence of other features. Despite this simplifying assumption, Naïve Bayes classifier is often effective in practice and can provide fast and efficient classification results.\n",
    "\n",
    "5. What is optimal Bayes classifier?\n",
    "\n",
    "The optimal Bayes classifier refers to the theoretical best possible classifier that can achieve the lowest possible error rate when classifying data. It is based on the Bayes' theorem and assumes complete knowledge of the true probability distributions of the classes and features. In practice, the optimal Bayes classifier is often unattainable due to the challenges of estimating true probabilities from limited data.\n",
    "\n",
    "6. Write any two features of Bayesian learning methods.\n",
    "\n",
    "Bayesian learning methods incorporate prior knowledge or assumptions into the learning process, allowing for the integration of prior beliefs with observed data.\n",
    "Bayesian learning methods provide a framework for updating beliefs based on new evidence, allowing for iterative learning and continual refinement of probabilities.\n",
    "\n",
    "7. Define the concept of consistent learners.\n",
    "\n",
    "Consistent learners are machine learning algorithms that, given an infinite amount of training data, will converge to the correct target function or hypothesis. In other words, a consistent learner will always produce the correct model when provided with enough data.\n",
    "\n",
    "8. Write any two strengths of Bayes classifier.\n",
    "\n",
    "Bayes classifier is computationally efficient and can handle high-dimensional feature spaces effectively.\n",
    "It works well with small training datasets and is robust to the inclusion of irrelevant features.\n",
    "\n",
    "9. Write any two weaknesses of Bayes classifier.\n",
    "\n",
    "Naïve Bayes classifier assumes independence between features, which may not hold true in real-world scenarios and can lead to suboptimal results.\n",
    "It is sensitive to the presence of rare events or features that were not seen in the training data, as it assigns zero probabilities to unseen events, resulting in biased predictions.\n",
    "\n",
    "10. Explain how Naïve Bayes classifier is used for:\n",
    "\n",
    "i. Text classification\n",
    "\n",
    "Naïve Bayes classifier is commonly used for text classification tasks, such as sentiment analysis or spam filtering. It can learn to classify text documents into different categories based on the presence of specific words or features. Each document is represented as a bag-of-words, and the classifier estimates the probabilities of each category given the observed words.\n",
    "\n",
    "ii. Spam filtering\n",
    "\n",
    "In spam filtering, Naïve Bayes classifier can be trained on a dataset of labeled emails (spam or non-spam) with their corresponding word frequencies. It learns the probability distribution of words in spam and non-spam emails and uses this knowledge to classify incoming emails as spam or non-spam based on their word frequencies.\n",
    "\n",
    "iii. Market sentiment analysis\n",
    "\n",
    "Naïve Bayes classifier can be used for market sentiment analysis by classifying text data (e.g., news articles, social media posts) into positive, negative, or neutral sentiment categories. By training the classifier on a labeled dataset of sentiment-labeled texts, it can learn to predict the sentiment of new texts based on the occurrence of specific words or features associated with different sentiments."
   ]
  },
  {
   "cell_type": "code",
   "execution_count": null,
   "id": "95d835b4",
   "metadata": {},
   "outputs": [],
   "source": []
  },
  {
   "cell_type": "code",
   "execution_count": null,
   "id": "c3ebcc1b",
   "metadata": {},
   "outputs": [],
   "source": []
  },
  {
   "cell_type": "code",
   "execution_count": null,
   "id": "2b9b16f1",
   "metadata": {},
   "outputs": [],
   "source": []
  },
  {
   "cell_type": "code",
   "execution_count": null,
   "id": "c487e13a",
   "metadata": {},
   "outputs": [],
   "source": []
  },
  {
   "cell_type": "code",
   "execution_count": null,
   "id": "30646a08",
   "metadata": {},
   "outputs": [],
   "source": []
  },
  {
   "cell_type": "code",
   "execution_count": null,
   "id": "b7d53da6",
   "metadata": {},
   "outputs": [],
   "source": []
  },
  {
   "cell_type": "code",
   "execution_count": null,
   "id": "9adec697",
   "metadata": {},
   "outputs": [],
   "source": []
  },
  {
   "cell_type": "code",
   "execution_count": null,
   "id": "5033ed8c",
   "metadata": {},
   "outputs": [],
   "source": []
  },
  {
   "cell_type": "code",
   "execution_count": null,
   "id": "120a4791",
   "metadata": {},
   "outputs": [],
   "source": []
  },
  {
   "cell_type": "code",
   "execution_count": null,
   "id": "decc7779",
   "metadata": {},
   "outputs": [],
   "source": []
  },
  {
   "cell_type": "code",
   "execution_count": null,
   "id": "42a8c0a1",
   "metadata": {},
   "outputs": [],
   "source": []
  },
  {
   "cell_type": "code",
   "execution_count": null,
   "id": "38ab565c",
   "metadata": {},
   "outputs": [],
   "source": []
  },
  {
   "cell_type": "code",
   "execution_count": null,
   "id": "34aebacb",
   "metadata": {},
   "outputs": [],
   "source": []
  },
  {
   "cell_type": "code",
   "execution_count": null,
   "id": "10e8ca97",
   "metadata": {},
   "outputs": [],
   "source": []
  },
  {
   "cell_type": "code",
   "execution_count": null,
   "id": "a00165ff",
   "metadata": {},
   "outputs": [],
   "source": []
  },
  {
   "cell_type": "code",
   "execution_count": null,
   "id": "fff296d4",
   "metadata": {},
   "outputs": [],
   "source": []
  },
  {
   "cell_type": "code",
   "execution_count": null,
   "id": "b02a9d25",
   "metadata": {},
   "outputs": [],
   "source": []
  }
 ],
 "metadata": {
  "kernelspec": {
   "display_name": "Python 3 (ipykernel)",
   "language": "python",
   "name": "python3"
  },
  "language_info": {
   "codemirror_mode": {
    "name": "ipython",
    "version": 3
   },
   "file_extension": ".py",
   "mimetype": "text/x-python",
   "name": "python",
   "nbconvert_exporter": "python",
   "pygments_lexer": "ipython3",
   "version": "3.9.7"
  }
 },
 "nbformat": 4,
 "nbformat_minor": 5
}
