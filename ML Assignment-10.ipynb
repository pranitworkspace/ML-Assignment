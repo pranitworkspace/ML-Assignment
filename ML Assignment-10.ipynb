{
 "cells": [
  {
   "cell_type": "markdown",
   "id": "f2fa49e3",
   "metadata": {},
   "source": [
    "1. Define the Bayesian interpretation of probability.\n",
    "2. Define probability of a union of two events with equation.\n",
    "3. What is joint probability? What is its formula?\n",
    "4. What is chain rule of probability?\n",
    "5. What is conditional probability means? What is the formula of it?\n",
    "6. What are continuous random variables?\n",
    "7. What are Bernoulli distributions? What is the formula of it?\n",
    "8. What is binomial distribution? What is the formula?\n",
    "9. What is Poisson distribution? What is the formula?\n",
    "10. Define covariance.\n",
    "11. Define correlation\n",
    "12. Define sampling with replacement. Give example.\n",
    "13. What is sampling without replacement? Give example.\n",
    "14. What is hypothesis? Give example."
   ]
  },
  {
   "cell_type": "markdown",
   "id": "7f624c82",
   "metadata": {},
   "source": [
    "1. Define the Bayesian interpretation of probability.\n",
    "\n",
    "The Bayesian interpretation of probability is a statistical interpretation that views probability as a measure of belief or degree of confidence in an event occurring. It incorporates prior knowledge or beliefs about the event, combines it with new evidence, and updates the probability estimation through Bayes' theorem.\n",
    "\n",
    "2. Define the probability of the union of two events with an equation.\n",
    "\n",
    "The probability of the union of two events A and B, denoted as P(A ∪ B), is the probability that at least one of the events A or B occurs. The equation for the probability of the union is:\n",
    "P(A ∪ B) = P(A) + P(B) - P(A ∩ B)\n",
    "\n",
    "3. What is joint probability? What is its formula?\n",
    "\n",
    "Joint probability refers to the probability of two or more events occurring simultaneously. It is denoted as P(A ∩ B), where A and B are the events. The formula for joint probability is:\n",
    "P(A ∩ B) = P(A) * P(B|A)\n",
    "\n",
    "4. What is the chain rule of probability?\n",
    "\n",
    "The chain rule of probability states that the probability of multiple events occurring can be expressed as the product of conditional probabilities. It is used to break down the joint probability of several events into a sequence of conditional probabilities.\n",
    "\n",
    "5. What does conditional probability mean? What is the formula for it?\n",
    "\n",
    "Conditional probability is the probability of an event occurring given that another event has already occurred. It is denoted as P(A|B), representing the probability of event A given event B. The formula for conditional probability is:\n",
    "P(A|B) = P(A ∩ B) / P(B)\n",
    "\n",
    "6. What are continuous random variables?\n",
    "\n",
    "Continuous random variables are variables that can take any value within a specific range or interval. They have an infinite number of possible values within that range. Examples of continuous random variables include height, weight, and time.\n",
    "\n",
    "7. What are Bernoulli distributions? What is the formula for it?\n",
    "\n",
    "Bernoulli distributions model the probability of a binary outcome, where an event can have only two possible outcomes (success or failure). It is characterized by a single parameter, usually denoted as p, which represents the probability of success. The formula for the Bernoulli distribution is:\n",
    "P(X = k) = p^k * (1-p)^(1-k)\n",
    "\n",
    "8. What is the binomial distribution? What is the formula?\n",
    "\n",
    "The binomial distribution models the probability of obtaining a specific number of successes in a fixed number of independent Bernoulli trials. It is characterized by two parameters: the number of trials (n) and the probability of success in each trial (p). The formula for the binomial distribution is:\n",
    "P(X = k) = C(n, k) * p^k * (1-p)^(n-k)\n",
    "\n",
    "9. What is the Poisson distribution? What is the formula?\n",
    "\n",
    "The Poisson distribution models the probability of a given number of events occurring within a fixed interval of time or space, assuming a constant rate of occurrence. It is characterized by a single parameter, usually denoted as λ (lambda), which represents the average rate of occurrence. The formula for the Poisson distribution is:\n",
    "P(X = k) = (e^-λ * λ^k) / k!\n",
    "\n",
    "10. Define covariance.\n",
    "\n",
    "Covariance measures the relationship between two random variables and describes how they vary together. It measures the joint variability of the variables around their means. A positive covariance indicates that the variables tend to move in the same direction, while a negative covariance indicates an inverse relationship.\n",
    "\n",
    "11. Define correlation.\n",
    "\n",
    "Correlation is a statistical measure that describes the strength and direction of the linear relationship between two variables. It quantifies the degree to which the variables move together. Correlation values range from -1 to 1, where -1 represents a perfect negative correlation, 0 represents no correlation, and 1 represents a perfect positive correlation.\n",
    "\n",
    "12. Define sampling with replacement. Give an example.\n",
    "\n",
    "Sampling with replacement is a sampling method where each selected item is returned to the population before the next item is selected. This means that the same item can be selected more than once. For example, if you have a bag of colored balls and you randomly select a ball, note its color, and then place it back in the bag before selecting the next ball, you are sampling with replacement.\n",
    "\n",
    "13. What is sampling without replacement? Give an example.\n",
    "\n",
    "Sampling without replacement is a sampling method where each selected item is not returned to the population before the next item is selected. This means that once an item is selected, it is removed from the population and cannot be selected again. For example, if you have a deck of playing cards and you randomly draw a card and remove it from the deck before drawing the next card, you are sampling without replacement.\n",
    "\n",
    "14. What is a hypothesis? Give an example.\n",
    "\n",
    "A hypothesis is a proposed explanation or statement that can be tested through experimentation or observation. It is used in scientific research to formulate predictions and make inferences about a phenomenon. For example, a hypothesis could be \"Increasing the amount of fertilizer will result in higher plant growth.\""
   ]
  },
  {
   "cell_type": "code",
   "execution_count": null,
   "id": "a2f3e473",
   "metadata": {},
   "outputs": [],
   "source": []
  },
  {
   "cell_type": "code",
   "execution_count": null,
   "id": "c8d82dcb",
   "metadata": {},
   "outputs": [],
   "source": []
  },
  {
   "cell_type": "code",
   "execution_count": null,
   "id": "7b2cee61",
   "metadata": {},
   "outputs": [],
   "source": []
  },
  {
   "cell_type": "code",
   "execution_count": null,
   "id": "5a808f6c",
   "metadata": {},
   "outputs": [],
   "source": []
  },
  {
   "cell_type": "code",
   "execution_count": null,
   "id": "ea9409c9",
   "metadata": {},
   "outputs": [],
   "source": []
  },
  {
   "cell_type": "code",
   "execution_count": null,
   "id": "4f5dbcc8",
   "metadata": {},
   "outputs": [],
   "source": []
  },
  {
   "cell_type": "code",
   "execution_count": null,
   "id": "51345b32",
   "metadata": {},
   "outputs": [],
   "source": []
  },
  {
   "cell_type": "code",
   "execution_count": null,
   "id": "376b8ee7",
   "metadata": {},
   "outputs": [],
   "source": []
  },
  {
   "cell_type": "code",
   "execution_count": null,
   "id": "1d5846b7",
   "metadata": {},
   "outputs": [],
   "source": []
  },
  {
   "cell_type": "code",
   "execution_count": null,
   "id": "afcc3e6d",
   "metadata": {},
   "outputs": [],
   "source": []
  },
  {
   "cell_type": "code",
   "execution_count": null,
   "id": "8726709b",
   "metadata": {},
   "outputs": [],
   "source": []
  },
  {
   "cell_type": "code",
   "execution_count": null,
   "id": "2026f32e",
   "metadata": {},
   "outputs": [],
   "source": []
  },
  {
   "cell_type": "code",
   "execution_count": null,
   "id": "2fb83d74",
   "metadata": {},
   "outputs": [],
   "source": []
  },
  {
   "cell_type": "code",
   "execution_count": null,
   "id": "867eb34d",
   "metadata": {},
   "outputs": [],
   "source": []
  }
 ],
 "metadata": {
  "kernelspec": {
   "display_name": "Python 3 (ipykernel)",
   "language": "python",
   "name": "python3"
  },
  "language_info": {
   "codemirror_mode": {
    "name": "ipython",
    "version": 3
   },
   "file_extension": ".py",
   "mimetype": "text/x-python",
   "name": "python",
   "nbconvert_exporter": "python",
   "pygments_lexer": "ipython3",
   "version": "3.9.7"
  }
 },
 "nbformat": 4,
 "nbformat_minor": 5
}
