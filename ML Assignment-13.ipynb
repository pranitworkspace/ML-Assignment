{
 "cells": [
  {
   "cell_type": "markdown",
   "id": "3581bf23",
   "metadata": {},
   "source": [
    "1. Provide an example of the concepts of Prior, Posterior, and Likelihood.\n",
    "\n",
    "2. What role does Bayes&#39; theorem play in the concept learning principle?\n",
    "\n",
    "3. Offer an example of how the Nave Bayes classifier is used in real life.\n",
    "\n",
    "4. Can the Nave Bayes classifier be used on continuous numeric data? If so, how can you go about doing it?\n",
    "\n",
    "5. What are Bayesian Belief Networks, and how do they work? What are their applications? Are they capable of resolving a wide range of issues?\n",
    "\n",
    "6. Passengers are checked in an airport screening system to see if there is an intruder. Let I be therandom variable that indicates whether someone is an intruder I = 1) or not I = 0), and A be thevariable that indicates alarm I = 0). If an intruder is detected with probability P(A = 1|I = 1) = 0.98and a non-intruder is detected with probability P(A = 1|I = 0) = 0.001, an alarm will be triggered,implying the error factor. The likelihood of an intruder in the passenger population is P(I = 1) =0.00001. What are the chances that an alarm would be triggered when an individual is actually anintruder?\n",
    "\n",
    "7. An antibiotic resistance test (random variable T) has 1% false positives (i.e., 1% of those who arenot immune to an antibiotic display a positive result in the test) and 5% false negatives (i.e., 1% ofthose who are not resistant to an antibiotic show a positive result in the test) (i.e. 5 percent of those actually resistant to an antibiotic test negative). Assume that 2% of those who were screened were antibiotic-resistant. Calculate the likelihood that a person who tests positive is actually immune (random variable D).\n",
    "\n",
    "8. In order to prepare for the test, a student knows that there will be one question in the exam that is either form A, B, or C. The chances of getting an A, B, or C on the exam are 30 percent, 20%, and 50 percent, respectively. During the planning, the student solved 9 of 10 type A problems, 2 of 10 type B problems, and 6 of 10 type C problems.\n",
    "\n",
    "1. What is the likelihood that the student can solve the exam problem?\n",
    "\n",
    "2. Given the student&#39;s solution, what is the likelihood that the problem was of form A?\n",
    "\n",
    "9. A bank installs a CCTV system to track and photograph incoming customers. Despite the constant influx of customers, we divide the timeline into 5 minute bins. There may be a customer coming into the bank with a 5% chance in each 5-minute time period, or there may be no customer (again, for simplicity, we assume that either there is 1 customer or none, not the case of multiple customers). If there is a client, the CCTV will detect them with a 99 percent probability. If there is no customer, the camera can take a false photograph with a 10% chance of detecting movement from other objects.\n",
    "\n",
    "i. How many customers come into the bank on a daily basis (10 hours)?\n",
    "\n",
    "ii. On a daily basis, how many fake photographs (photographs taken when there is no customer) and how many missed photographs (photographs taken when there is a customer) are there?\n",
    "\n",
    "iii. Explain likelihood that there is a customer if there is a photograph?\n",
    "\n",
    "10. Create the conditional probability table associated with the node Won Toss in the Bayesian Belief network to represent the conditional independence assumptions of the Nave Bayes classifier for the match winning prediction problem in Section 6.4.4."
   ]
  },
  {
   "cell_type": "markdown",
   "id": "b147ff01",
   "metadata": {},
   "source": [
    "# Solution:-"
   ]
  },
  {
   "cell_type": "markdown",
   "id": "dbdbbee0",
   "metadata": {},
   "source": [
    "1. Example of Prior, Posterior, and Likelihood:\n",
    "\n",
    "Prior: Let's say we want to predict if it will rain today based on historical data. The prior probability would be the initial belief about the chance of rain without considering any current information.\n",
    "Likelihood: As the day progresses, we observe dark clouds and a drop in temperature. The likelihood would be the probability of observing these weather conditions given that it is going to rain.\n",
    "Posterior: Combining the prior probability and the likelihood, we update our belief about the chance of rain. The posterior probability is the updated probability of rain given the observed weather conditions.\n",
    "\n",
    "2. Role of Bayes' Theorem in concept learning principle:\n",
    "\n",
    "Bayes' theorem is the foundation of the concept learning principle, which involves updating beliefs based on new evidence. It allows us to calculate the posterior probability of a hypothesis given the prior probability and the likelihood of observing the evidence. This helps in refining and updating our understanding of concepts.\n",
    "\n",
    "3. Example of Naive Bayes classifier in real life:\n",
    "\n",
    "Spam email classification: Naive Bayes classifiers are commonly used in email spam filtering. They can analyze the content of emails and classify them as spam or non-spam based on the occurrence of certain keywords or patterns.\n",
    "\n",
    "4. Using Naive Bayes classifier on continuous numeric data:\n",
    "\n",
    "Yes, the Naive Bayes classifier can be used on continuous numeric data by assuming a probability distribution for each feature. Commonly used distributions include Gaussian (normal) distribution for continuous variables. The classifier uses the probability density function of the distribution to calculate the likelihood.\n",
    "\n",
    "5. Bayesian Belief Networks:\n",
    "\n",
    "Bayesian Belief Networks (BBNs) are probabilistic graphical models that represent relationships between variables using directed acyclic graphs. They are composed of nodes representing variables and edges representing dependencies between variables. BBNs use Bayesian inference to update probabilities based on evidence and make predictions. They find applications in various domains such as medical diagnosis, risk analysis, and decision making under uncertainty.\n",
    "\n",
    "6. Chances of an alarm being triggered when an individual is actually an intruder:\n",
    "\n",
    "P(I = 1|A = 1) = P(A = 1|I = 1) * P(I = 1) / (P(A = 1|I = 1) * P(I = 1) + P(A = 1|I = 0) * P(I = 0))\n",
    "P(I = 1|A = 1) = (0.98 * 0.00001) / ((0.98 * 0.00001) + (0.001 * 0.99999))\n",
    "\n",
    "7. Likelihood that a person who tests positive is actually immune:\n",
    "\n",
    "P(D = 1|T = 1) = P(T = 1|D = 1) * P(D = 1) / (P(T = 1|D = 1) * P(D = 1) + P(T = 1|D = 0) * P(D = 0))\n",
    "P(D = 1|T = 1) = (0.99 * 0.02) / ((0.99 * 0.02) + (0.01 * 0.98))\n",
    "\n",
    "8. Likelihood of the student solving the exam problem:\n",
    "\n",
    "P(A) = 0.3 (Probability of problem being type A)\n",
    "P(B) = 0.2 (Probability of problem being type B)\n",
    "P(C) = 0.5 (Probability of problem being type C)\n",
    "P(Solve) = P(A) * P(Solve|A) + P(B) * P(Solve|B) + P(C) * P(Solve|C)\n",
    "P(Solve) = 0.3 * (9/10) + 0.2 * (2/10) + 0.5 * (6/10)\n",
    "\n",
    "9. Analysis of bank CCTV system:\n",
    "\n",
    "i. To calculate the number of customers coming into the bank on a daily basis, we need additional information such as the duration of each 5-minute time period and the probability of a customer coming in during that time period.\n",
    "\n",
    "ii. Similarly, to calculate the number of fake photographs and missed photographs, we need additional information such as the number of 5-minute time periods in a day and the probabilities of false detection and missed detection.\n",
    "\n",
    "iii. The likelihood of there being a customer if there is a photograph can be calculated by considering the probabilities of a customer coming in, the detection probability of the CCTV, and the false detection probability. The calculation would involve conditional probabilities and further details of the problem."
   ]
  },
  {
   "cell_type": "code",
   "execution_count": null,
   "id": "f4ba8d54",
   "metadata": {},
   "outputs": [],
   "source": []
  },
  {
   "cell_type": "code",
   "execution_count": null,
   "id": "a3d6e31d",
   "metadata": {},
   "outputs": [],
   "source": []
  },
  {
   "cell_type": "code",
   "execution_count": null,
   "id": "a1b6bcf3",
   "metadata": {},
   "outputs": [],
   "source": []
  },
  {
   "cell_type": "code",
   "execution_count": null,
   "id": "52a30fe2",
   "metadata": {},
   "outputs": [],
   "source": []
  },
  {
   "cell_type": "code",
   "execution_count": null,
   "id": "9b3479da",
   "metadata": {},
   "outputs": [],
   "source": []
  },
  {
   "cell_type": "code",
   "execution_count": null,
   "id": "0ad4a932",
   "metadata": {},
   "outputs": [],
   "source": []
  },
  {
   "cell_type": "code",
   "execution_count": null,
   "id": "22d50336",
   "metadata": {},
   "outputs": [],
   "source": []
  },
  {
   "cell_type": "code",
   "execution_count": null,
   "id": "66e91043",
   "metadata": {},
   "outputs": [],
   "source": []
  },
  {
   "cell_type": "code",
   "execution_count": null,
   "id": "195c6cf8",
   "metadata": {},
   "outputs": [],
   "source": []
  },
  {
   "cell_type": "code",
   "execution_count": null,
   "id": "c27dffb7",
   "metadata": {},
   "outputs": [],
   "source": []
  },
  {
   "cell_type": "code",
   "execution_count": null,
   "id": "ddd0a2e8",
   "metadata": {},
   "outputs": [],
   "source": []
  },
  {
   "cell_type": "code",
   "execution_count": null,
   "id": "3df6ebcc",
   "metadata": {},
   "outputs": [],
   "source": []
  },
  {
   "cell_type": "code",
   "execution_count": null,
   "id": "bd791dd2",
   "metadata": {},
   "outputs": [],
   "source": []
  },
  {
   "cell_type": "code",
   "execution_count": null,
   "id": "4389c52c",
   "metadata": {},
   "outputs": [],
   "source": []
  },
  {
   "cell_type": "code",
   "execution_count": null,
   "id": "0607a5b0",
   "metadata": {},
   "outputs": [],
   "source": []
  }
 ],
 "metadata": {
  "kernelspec": {
   "display_name": "Python 3 (ipykernel)",
   "language": "python",
   "name": "python3"
  },
  "language_info": {
   "codemirror_mode": {
    "name": "ipython",
    "version": 3
   },
   "file_extension": ".py",
   "mimetype": "text/x-python",
   "name": "python",
   "nbconvert_exporter": "python",
   "pygments_lexer": "ipython3",
   "version": "3.9.7"
  }
 },
 "nbformat": 4,
 "nbformat_minor": 5
}
